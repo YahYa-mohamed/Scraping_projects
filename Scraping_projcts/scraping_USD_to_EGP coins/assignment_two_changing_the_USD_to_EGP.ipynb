{
 "cells": [
  {
   "cell_type": "code",
   "execution_count": 1,
   "metadata": {},
   "outputs": [],
   "source": [
    "from bs4 import BeautifulSoup as bs\n",
    "import requests as rq"
   ]
  },
  {
   "cell_type": "code",
   "execution_count": 49,
   "metadata": {},
   "outputs": [
    {
     "name": "stdout",
     "output_type": "stream",
     "text": [
      "Enter your USD coins:2\n",
      "The new USD price is: 15.9252 USDS, and your USD coins changed to: 31.8504 EGP\n"
     ]
    }
   ],
   "source": [
    "USD=float(input('Enter your USD coins:'))\n",
    "url='https://www.exchangerates.org.uk/Dollars-to-Egyptian-Pounds-currency-conversion-page.html'\n",
    "response=rq.get(url).text\n",
    "soup=bs(response,'html.parser')\n",
    "details=float(soup.find('span',attrs={'id':'shd2b;'}).get_text())\n",
    "USD_EGP=details*USD\n",
    "print(f'The new USD price is: {details} USDS, and your USD coins changed to: {USD_EGP} EGP')"
   ]
  },
  {
   "cell_type": "code",
   "execution_count": null,
   "metadata": {},
   "outputs": [],
   "source": []
  }
 ],
 "metadata": {
  "kernelspec": {
   "display_name": "Python 3",
   "language": "python",
   "name": "python3"
  },
  "language_info": {
   "codemirror_mode": {
    "name": "ipython",
    "version": 3
   },
   "file_extension": ".py",
   "mimetype": "text/x-python",
   "name": "python",
   "nbconvert_exporter": "python",
   "pygments_lexer": "ipython3",
   "version": "3.7.6"
  }
 },
 "nbformat": 4,
 "nbformat_minor": 4
}
